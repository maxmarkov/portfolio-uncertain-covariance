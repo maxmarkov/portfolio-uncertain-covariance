{
 "cells": [
  {
   "cell_type": "markdown",
   "metadata": {},
   "source": [
    "## Appendix: average volatility vs correlation on monthly data\n",
    "\n",
    "Load data"
   ]
  },
  {
   "cell_type": "code",
   "execution_count": 1,
   "metadata": {},
   "outputs": [],
   "source": [
    "import pickle\n",
    "import pandas as pd\n",
    "import numpy as np\n",
    "\n",
    "import plotly.graph_objects as go\n",
    "import plotly.io as pio\n",
    "\n",
    "from sklearn.linear_model import HuberRegressor\n",
    "\n",
    "import warnings\n",
    "from sklearn.exceptions import DataConversionWarning\n",
    "\n",
    "warnings.filterwarnings(\"ignore\", category=DataConversionWarning)\n",
    "\n",
    "with open('data/correlation_statistics_mean_monthly.pkl', 'rb') as file:\n",
    "    data = pickle.load(file)"
   ]
  },
  {
   "cell_type": "markdown",
   "metadata": {},
   "source": [
    "Plot all indices on separate plots and fit the scatter plot with Hubert regression.\n",
    "\n",
    "Notations: \n",
    "\n",
    "    - red dashed line: maximum correlation coefficient.\n",
    "    - black solid line: Huber linear regression."
   ]
  },
  {
   "cell_type": "code",
   "execution_count": 4,
   "metadata": {},
   "outputs": [],
   "source": [
    "def get_huber_coefficients(X, y):\n",
    "    \"\"\" Returns coefficients of Huber linear regression. Fit-predicts on X, y \"\"\"\n",
    "    huber = HuberRegressor().fit(X, y)\n",
    "    y_pred = huber.predict(X)\n",
    "\n",
    "    a = huber.coef_[0]\n",
    "    b = huber.intercept_\n",
    "    return a, b, y_pred\n",
    "\n",
    "huber_dict = {}\n",
    "\n",
    "for index in list(data.keys()):\n",
    "    df = data[index]\n",
    "\n",
    "    fig = go.Figure()\n",
    "    for year in list(df.year.unique()):\n",
    "        df_year = df[df.year == year]\n",
    "        hover_texts = df_year.apply(lambda row: f'{row[\"month_abbr\"]} {row[\"year\"]}', axis=1)\n",
    "        fig.add_trace(go.Scatter(x=np.sqrt(252.)*100.*df_year['volatility'], \n",
    "                                 y=df_year['correlation'],\n",
    "                                 mode='markers',\n",
    "                                 name=year,\n",
    "                                 text = hover_texts))\n",
    "                                 #hovertemplate='%{text}'))\n",
    "\n",
    "    # maximum correlation\n",
    "    y_max = df['correlation'].max()\n",
    "    fig.add_shape(\n",
    "        type=\"line\",\n",
    "        x0=0.,\n",
    "        x1=150.,\n",
    "        y0=y_max,\n",
    "        y1=y_max,\n",
    "        line=dict(color=\"red\", width=2, dash=\"dash\"),\n",
    "        name='max correlation',)\n",
    "\n",
    "    # Hubert linear regression\n",
    "    X = np.sqrt(252.)*100.*(df['volatility']).values.reshape(-1, 1)\n",
    "    y = df['correlation'].values.reshape(-1, 1)\n",
    "\n",
    "    a, b, y_pred = get_huber_coefficients(X, y)\n",
    "    huber_dict[index] = {'a': a, 'b': b}\n",
    "\n",
    "    fig.add_trace(go.Scatter(x=X.ravel(),\n",
    "                             y=y_pred.ravel(),\n",
    "                             mode='lines',\n",
    "                             name='Huber regression',\n",
    "                             line=dict(color='black')))\n",
    "\n",
    "    ## Add text in the left upper corner. Plotly has rendering issues with LaTeX\n",
    "    #fig.add_annotation(\n",
    "    #    text='$\\rho$ = {a:.4f}$\\cdot\\sigma$ + {b:.2f}',\n",
    "    #    xref='paper',\n",
    "    #    yref='paper',\n",
    "    #    x=0.01,\n",
    "    #    y=0.95,\n",
    "    #    showarrow=False,\n",
    "    #    font=dict(size=12, color='black'))\n",
    "\n",
    "    fig.update_layout(title=f'Average volatility vs average correlation for the {index} index.', \n",
    "                  xaxis_title='Averaged Annualized Volatility, %', \n",
    "                  yaxis_title='Average correlation coefficient',\n",
    "                  yaxis_range=[0., 1.],\n",
    "                  xaxis_range=[0, 150.],\n",
    "                  xaxis=dict(\n",
    "                          title_font=dict(size=20),\n",
    "                          tickfont=dict(size=16)),\n",
    "                  yaxis=dict(\n",
    "                          title_font=dict(size=20),\n",
    "                          tickfont=dict(size=16)))\n",
    "\n",
    "    #fig.show()\n",
    "    fig.write_image(f'figures/monthly/{index}_volatility_vs_correlation_monthly_means.png', scale=1)\n",
    "    #plt.savefig(f'figures/monthly/{index}_volatility_vs_correlation_monthly_means.png', dpi=300, bbox_inches='tight')"
   ]
  },
  {
   "cell_type": "markdown",
   "metadata": {},
   "source": [
    "Hubert regression coefficients:"
   ]
  },
  {
   "cell_type": "code",
   "execution_count": null,
   "metadata": {},
   "outputs": [],
   "source": [
    "df_huber = pd.DataFrame(huber_dict).T\n",
    "df_huber"
   ]
  },
  {
   "cell_type": "markdown",
   "metadata": {},
   "source": [
    "Concatinate all data together for convenience:"
   ]
  },
  {
   "cell_type": "code",
   "execution_count": 6,
   "metadata": {},
   "outputs": [],
   "source": [
    "stacked_df = pd.concat(data, axis=0, keys=data.keys())\n",
    "stacked_df.reset_index(level=1, inplace=True)\n",
    "stacked_df.drop('level_1', axis=1, inplace=True)\n",
    "\n",
    "stacked_df.reset_index(inplace=True)"
   ]
  },
  {
   "cell_type": "markdown",
   "metadata": {},
   "source": [
    "Plot data by year:"
   ]
  },
  {
   "cell_type": "code",
   "execution_count": 7,
   "metadata": {},
   "outputs": [],
   "source": [
    "for year in stacked_df['year'].unique():\n",
    "\n",
    "    fig = go.Figure()\n",
    "\n",
    "    for index in list(stacked_df['index'].unique()):\n",
    "\n",
    "        a = stacked_df[(stacked_df['index']==index) & (stacked_df['year']==year)]\n",
    "\n",
    "        hover_texts = stacked_df[(stacked_df['index']==index) & (stacked_df['year']==year)].apply(lambda row: f'{row[\"index\"]}, {row[\"month_abbr\"]} {row[\"year\"]}', axis=1)\n",
    "        fig.add_trace(go.Scatter(x = np.sqrt(252.)*100.*stacked_df[(stacked_df['index']==index) & (stacked_df['year']==year)][\"volatility\"], \n",
    "                             y = stacked_df[(stacked_df['index']==index) & (stacked_df['year']==year)][\"correlation\"],\n",
    "                             text = hover_texts,\n",
    "                             #hovertemplate='%{text}',\n",
    "                             mode='markers', \n",
    "                             name=f'{index}'))\n",
    "\n",
    "    fig.update_layout(title=f'Average volatility vs average correlation for all indices in {year}.', \n",
    "                      xaxis_title='Averaged Annualized Volatility, %', \n",
    "                      yaxis_title='Average correlation coefficient',\n",
    "                      yaxis_range=[0., 1.],\n",
    "                      xaxis_range=[0, 150.],\n",
    "                    xaxis=dict(\n",
    "                          title_font=dict(size=20),\n",
    "                          tickfont=dict(size=16)),\n",
    "                    yaxis=dict(\n",
    "                          title_font=dict(size=20),\n",
    "                          tickfont=dict(size=16)))\n",
    "    \n",
    "    fig.write_image(f'figures/monthly/all_indices_volatility_vs_correlation_monthly_means_{year}.png', scale=1)    \n",
    "    #fig.show()"
   ]
  },
  {
   "cell_type": "markdown",
   "metadata": {},
   "source": [
    "Plot all data together:"
   ]
  },
  {
   "cell_type": "code",
   "execution_count": 8,
   "metadata": {},
   "outputs": [],
   "source": [
    "fig = go.Figure()\n",
    "\n",
    "for index in list(stacked_df['index'].unique()):\n",
    "\n",
    "\n",
    "    hover_texts = stacked_df[stacked_df['index']==index].apply(lambda row: f'{row[\"index\"]}, {row[\"month_abbr\"]} {row[\"year\"]}', axis=1)\n",
    "    fig.add_trace(go.Scatter(x = np.sqrt(252.)*100.*stacked_df[stacked_df['index']==index][\"volatility\"], \n",
    "                             y = stacked_df[stacked_df['index']==index][\"correlation\"],\n",
    "                             text = hover_texts,\n",
    "                             #hovertemplate='%{text}',\n",
    "                             mode='markers', \n",
    "                             name=f'{index}'))\n",
    "\n",
    "fig.update_layout(title=f'Average volatility vs average correlation for all indices', \n",
    "                  xaxis_title='Averaged Annualized Volatility, %', \n",
    "                  yaxis_title='Average correlation coefficient',\n",
    "                  yaxis_range=[0., 1.],\n",
    "                  xaxis_range=[0, 150.],\n",
    "                  xaxis=dict(\n",
    "                          title_font=dict(size=20),\n",
    "                          tickfont=dict(size=16)),\n",
    "                  yaxis=dict(\n",
    "                          title_font=dict(size=20),\n",
    "                          tickfont=dict(size=16)))\n",
    "fig.write_image(f'figures/monthly/all-indice_volatility_vs_correlation_monthly_means.png', scale=1)\n",
    "#fig.show(\"notebook\")"
   ]
  }
 ],
 "metadata": {
  "kernelspec": {
   "display_name": "Python 3 (ipykernel)",
   "language": "python",
   "name": "python3"
  },
  "language_info": {
   "codemirror_mode": {
    "name": "ipython",
    "version": 3
   },
   "file_extension": ".py",
   "mimetype": "text/x-python",
   "name": "python",
   "nbconvert_exporter": "python",
   "pygments_lexer": "ipython3",
   "version": "3.11.3"
  }
 },
 "nbformat": 4,
 "nbformat_minor": 2
}
